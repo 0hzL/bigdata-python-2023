{
 "cells": [
  {
   "cell_type": "code",
   "execution_count": null,
   "metadata": {},
   "outputs": [],
   "source": [
    "# 문제 1\n",
    "jumin = input('주민등록번호(- 포함 입력) : ').split('-')\n",
    "print(jumin[1][:1])\n",
    "if(jumin[1][:1] == '1' or jumin[1][:1] == '3' or jumin[1][:1] == '5'):\n",
    "    print('남성 입니다')\n",
    "elif(jumin[1][:1] == '2' or jumin[1][:1] == '4' or jumin[1][:1] == '6'):\n",
    "    print('여성 입니다')\n",
    "else:\n",
    "    print('주민등록번호를 확인해주세요')\n"
   ]
  },
  {
   "cell_type": "code",
   "execution_count": null,
   "metadata": {},
   "outputs": [],
   "source": [
    "\n",
    "#문제 2\n",
    "weekday = input('요일을 입력하세요(ex: mon) : ').upper()\n",
    "if(weekday == 'MON'):\n",
    "    print('월요일')\n",
    "elif(weekday == 'TUE'):\n",
    "    print('화요일')\n",
    "elif(weekday == 'WED'):\n",
    "    print('수요일')\n",
    "elif(weekday == 'TUR'):\n",
    "    print('목요일')\n",
    "elif(weekday == 'FRI'):\n",
    "    print('금요일')\n",
    "elif(weekday == 'SAT'):\n",
    "    print('토요일')\n",
    "elif(weekday == 'SUN'):\n",
    "    print('일요일')\n",
    "\n"
   ]
  },
  {
   "cell_type": "code",
   "execution_count": null,
   "metadata": {},
   "outputs": [],
   "source": [
    "\n",
    "\n",
    "#문제 3\n",
    "age = int(input('나이를 입력하세요 :'))\n",
    "if(age < 19 ):\n",
    "    print('애들은 가라')\n",
    "elif(age >=19):\n",
    "    print('어서오십시오. 손님~!!')\n",
    "\n"
   ]
  },
  {
   "cell_type": "code",
   "execution_count": null,
   "metadata": {},
   "outputs": [],
   "source": [
    "#문제4\n",
    "\n",
    "filename = './result.txt'\n",
    "f = open(filename, mode='wt', encoding='utf-8') \n",
    "\n",
    "num = 1\n",
    "while num <= 10000:\n",
    "    if( num % 3 == 0 or num % 5 == 0):\n",
    "        f.write(str(num) + '\\n')\n",
    "    num += 1\n",
    "\n",
    "f.close() \n",
    "print(f'{filename} 이(가) 생성되었습니다')\n",
    "\n"
   ]
  },
  {
   "cell_type": "code",
   "execution_count": null,
   "metadata": {},
   "outputs": [],
   "source": [
    "\n",
    "#문제 5\n",
    "from datetime import datetime\n",
    "now = datetime.now()\n",
    "formattedDate = now.strftime('%Y\\%m-%d %H*%M%%%S')\n",
    "print(formattedDate)"
   ]
  }
 ],
 "metadata": {
  "kernelspec": {
   "display_name": "Python 3",
   "language": "python",
   "name": "python3"
  },
  "language_info": {
   "codemirror_mode": {
    "name": "ipython",
    "version": 3
   },
   "file_extension": ".py",
   "mimetype": "text/x-python",
   "name": "python",
   "nbconvert_exporter": "python",
   "pygments_lexer": "ipython3",
   "version": "3.11.4 (tags/v3.11.4:d2340ef, Jun  7 2023, 05:45:37) [MSC v.1934 64 bit (AMD64)]"
  },
  "orig_nbformat": 4,
  "vscode": {
   "interpreter": {
    "hash": "5238573367df39f7286bb46f9ff5f08f63a01a80960060ce41e3c79b190280fa"
   }
  }
 },
 "nbformat": 4,
 "nbformat_minor": 2
}
